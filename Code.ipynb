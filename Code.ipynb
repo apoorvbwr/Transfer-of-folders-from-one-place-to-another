{
 "cells": [
  {
   "cell_type": "code",
   "execution_count": 1,
   "metadata": {},
   "outputs": [],
   "source": [
    "import os"
   ]
  },
  {
   "cell_type": "code",
   "execution_count": 3,
   "metadata": {},
   "outputs": [],
   "source": [
    "list_of_folders=os.listdir(\"C:\\\\Users\\\\ADMIN\\\\Desktop\\\\coding\\\\Coaching\\\\Assignments\\\\Assignment 4\\\\DevanagariHandwrittenCharacterDataset\\\\Train\")"
   ]
  },
  {
   "cell_type": "code",
   "execution_count": 4,
   "metadata": {},
   "outputs": [
    {
     "data": {
      "text/plain": [
       "['character_10_yna',\n",
       " 'character_11_taamatar',\n",
       " 'character_12_thaa',\n",
       " 'character_13_daa',\n",
       " 'character_14_dhaa',\n",
       " 'character_15_adna',\n",
       " 'character_16_tabala',\n",
       " 'character_17_tha',\n",
       " 'character_18_da',\n",
       " 'character_19_dha',\n",
       " 'character_1_ka',\n",
       " 'character_20_na',\n",
       " 'character_21_pa',\n",
       " 'character_22_pha',\n",
       " 'character_23_ba',\n",
       " 'character_24_bha',\n",
       " 'character_25_ma',\n",
       " 'character_26_yaw',\n",
       " 'character_27_ra',\n",
       " 'character_28_la',\n",
       " 'character_29_waw',\n",
       " 'character_2_kha',\n",
       " 'character_30_motosaw',\n",
       " 'character_31_petchiryakha',\n",
       " 'character_32_patalosaw',\n",
       " 'character_33_ha',\n",
       " 'character_34_chhya',\n",
       " 'character_35_tra',\n",
       " 'character_36_gya',\n",
       " 'character_3_ga',\n",
       " 'character_4_gha',\n",
       " 'character_5_kna',\n",
       " 'character_6_cha',\n",
       " 'character_7_chha',\n",
       " 'character_8_ja',\n",
       " 'character_9_jha',\n",
       " 'digit_0',\n",
       " 'digit_1',\n",
       " 'digit_2',\n",
       " 'digit_3',\n",
       " 'digit_4',\n",
       " 'digit_5',\n",
       " 'digit_6',\n",
       " 'digit_7',\n",
       " 'digit_8',\n",
       " 'digit_9']"
      ]
     },
     "execution_count": 4,
     "metadata": {},
     "output_type": "execute_result"
    }
   ],
   "source": [
    "list_of_folders"
   ]
  },
  {
   "cell_type": "markdown",
   "metadata": {},
   "source": [
    "os.makedirs is used to create an empty folder but that folder would be empty"
   ]
  },
  {
   "cell_type": "code",
   "execution_count": 6,
   "metadata": {},
   "outputs": [],
   "source": [
    "os.makedirs(\"C:\\\\Users\\\\ADMIN\\\\Desktop\\\\coding\\\\Coaching\\\\Assignments\\\\Assignment 4\\\\DevanagariHandwrittenCharacterDataset\\\\Cross Validation\")"
   ]
  },
  {
   "cell_type": "code",
   "execution_count": 7,
   "metadata": {},
   "outputs": [],
   "source": [
    "to_folder_base_path=\"C:\\\\Users\\\\ADMIN\\\\Desktop\\\\coding\\\\Coaching\\\\Assignments\\\\Assignment 4\\\\DevanagariHandwrittenCharacterDataset\\\\Cross Validation\""
   ]
  },
  {
   "cell_type": "code",
   "execution_count": 8,
   "metadata": {},
   "outputs": [],
   "source": [
    "for single_folder in list_of_folders:\n",
    "    single_folder_path=os.path.join(to_folder_base_path,single_folder)\n",
    "    os.makedirs(single_folder_path)"
   ]
  },
  {
   "cell_type": "code",
   "execution_count": 9,
   "metadata": {},
   "outputs": [],
   "source": [
    "from_folder_base_path=\"C:\\\\Users\\\\ADMIN\\\\Desktop\\\\coding\\\\Coaching\\\\Assignments\\\\Assignment 4\\\\DevanagariHandwrittenCharacterDataset\\\\Train\" "
   ]
  },
  {
   "cell_type": "code",
   "execution_count": 10,
   "metadata": {},
   "outputs": [
    {
     "data": {
      "text/plain": [
       "['character_10_yna',\n",
       " 'character_11_taamatar',\n",
       " 'character_12_thaa',\n",
       " 'character_13_daa',\n",
       " 'character_14_dhaa',\n",
       " 'character_15_adna',\n",
       " 'character_16_tabala',\n",
       " 'character_17_tha',\n",
       " 'character_18_da',\n",
       " 'character_19_dha',\n",
       " 'character_1_ka',\n",
       " 'character_20_na',\n",
       " 'character_21_pa',\n",
       " 'character_22_pha',\n",
       " 'character_23_ba',\n",
       " 'character_24_bha',\n",
       " 'character_25_ma',\n",
       " 'character_26_yaw',\n",
       " 'character_27_ra',\n",
       " 'character_28_la',\n",
       " 'character_29_waw',\n",
       " 'character_2_kha',\n",
       " 'character_30_motosaw',\n",
       " 'character_31_petchiryakha',\n",
       " 'character_32_patalosaw',\n",
       " 'character_33_ha',\n",
       " 'character_34_chhya',\n",
       " 'character_35_tra',\n",
       " 'character_36_gya',\n",
       " 'character_3_ga',\n",
       " 'character_4_gha',\n",
       " 'character_5_kna',\n",
       " 'character_6_cha',\n",
       " 'character_7_chha',\n",
       " 'character_8_ja',\n",
       " 'character_9_jha',\n",
       " 'digit_0',\n",
       " 'digit_1',\n",
       " 'digit_2',\n",
       " 'digit_3',\n",
       " 'digit_4',\n",
       " 'digit_5',\n",
       " 'digit_6',\n",
       " 'digit_7',\n",
       " 'digit_8',\n",
       " 'digit_9']"
      ]
     },
     "execution_count": 10,
     "metadata": {},
     "output_type": "execute_result"
    }
   ],
   "source": [
    "list_of_folders"
   ]
  },
  {
   "cell_type": "code",
   "execution_count": 11,
   "metadata": {},
   "outputs": [
    {
     "data": {
      "text/plain": [
       "'character_10_yna'"
      ]
     },
     "execution_count": 11,
     "metadata": {},
     "output_type": "execute_result"
    }
   ],
   "source": [
    "list_of_folders[0]"
   ]
  },
  {
   "cell_type": "code",
   "execution_count": 12,
   "metadata": {},
   "outputs": [],
   "source": [
    "from_single_folder_path=os.path.join(from_folder_base_path,list_of_folders[0])"
   ]
  },
  {
   "cell_type": "code",
   "execution_count": 14,
   "metadata": {},
   "outputs": [
    {
     "name": "stdout",
     "output_type": "stream",
     "text": [
      "C:\\Users\\ADMIN\\Desktop\\coding\\Coaching\\Assignments\\Assignment 4\\DevanagariHandwrittenCharacterDataset\\Train\\character_10_yna\n"
     ]
    }
   ],
   "source": [
    "print(from_single_folder_path)"
   ]
  },
  {
   "cell_type": "code",
   "execution_count": 15,
   "metadata": {},
   "outputs": [],
   "source": [
    "list_of_files_per_folder=os.listdir(from_single_folder_path)"
   ]
  },
  {
   "cell_type": "code",
   "execution_count": 16,
   "metadata": {},
   "outputs": [
    {
     "data": {
      "text/plain": [
       "383"
      ]
     },
     "execution_count": 16,
     "metadata": {},
     "output_type": "execute_result"
    }
   ],
   "source": [
    "len(list_of_files_per_folder)"
   ]
  },
  {
   "cell_type": "code",
   "execution_count": 17,
   "metadata": {},
   "outputs": [],
   "source": [
    "import shutil"
   ]
  },
  {
   "cell_type": "code",
   "execution_count": 18,
   "metadata": {},
   "outputs": [],
   "source": [
    "import numpy as np"
   ]
  },
  {
   "cell_type": "code",
   "execution_count": 21,
   "metadata": {},
   "outputs": [],
   "source": [
    "for single_folder in list_of_folders:\n",
    "    from_single_folder_path=os.path.join(from_folder_base_path,single_folder)\n",
    "    to_single_folder_path=os.path.join(to_folder_base_path,single_folder)\n",
    "    list_of_files_per_folder=np.array(os.listdir(from_single_folder_path))\n",
    "    list_of_files_to_move=list(np.random.choice(a=list_of_files_per_folder,size=96,replace=False))\n",
    "    for file in list_of_files_to_move:\n",
    "        file_path=os.path.join(from_single_folder_path,file)\n",
    "        shutil.move(src=file_path,dst=to_single_folder_path)"
   ]
  },
  {
   "cell_type": "code",
   "execution_count": 22,
   "metadata": {},
   "outputs": [],
   "source": [
    "list_of_files_left_per_folder=os.listdir(os.path.join(from_folder_base_path,list_of_folders[0]))"
   ]
  },
  {
   "cell_type": "code",
   "execution_count": 23,
   "metadata": {},
   "outputs": [
    {
     "data": {
      "text/plain": [
       "['10545.png',\n",
       " '10547.png',\n",
       " '10558.png',\n",
       " '10573.png',\n",
       " '119.png',\n",
       " '120.png',\n",
       " '122.png',\n",
       " '127.png',\n",
       " '12830.png',\n",
       " '12831.png',\n",
       " '13644.png',\n",
       " '13660.png',\n",
       " '13661.png',\n",
       " '13667.png',\n",
       " '13669.png',\n",
       " '13675.png',\n",
       " '13679.png',\n",
       " '13681.png',\n",
       " '13689.png',\n",
       " '13696.png',\n",
       " '13702.png',\n",
       " '13705.png',\n",
       " '13709.png',\n",
       " '13712.png',\n",
       " '13713.png',\n",
       " '13717.png',\n",
       " '13720.png',\n",
       " '13722.png',\n",
       " '13747.png',\n",
       " '13748.png',\n",
       " '13750.png',\n",
       " '13757.png',\n",
       " '13760.png',\n",
       " '13763.png',\n",
       " '13770.png',\n",
       " '13777.png',\n",
       " '13793.png',\n",
       " '13794.png',\n",
       " '13814.png',\n",
       " '13819.png',\n",
       " '13822.png',\n",
       " '143.png',\n",
       " '147.png',\n",
       " '149.png',\n",
       " '161.png',\n",
       " '16240.png',\n",
       " '16255.png',\n",
       " '16272.png',\n",
       " '16277.png',\n",
       " '16295.png',\n",
       " '185.png',\n",
       " '19404.png',\n",
       " '19406.png',\n",
       " '19408.png',\n",
       " '19410.png',\n",
       " '19415.png',\n",
       " '19443.png',\n",
       " '19447.png',\n",
       " '19450.png',\n",
       " '19452.png',\n",
       " '19458.png',\n",
       " '19463.png',\n",
       " '22095.png',\n",
       " '22099.png',\n",
       " '23219.png',\n",
       " '23226.png',\n",
       " '23228.png',\n",
       " '23235.png',\n",
       " '23243.png',\n",
       " '23256.png',\n",
       " '23263.png',\n",
       " '23271.png',\n",
       " '23286.png',\n",
       " '23289.png',\n",
       " '23294.png',\n",
       " '23297.png',\n",
       " '23306.png',\n",
       " '23316.png',\n",
       " '23323.png',\n",
       " '23331.png',\n",
       " '23347.png',\n",
       " '23350.png',\n",
       " '23362.png',\n",
       " '23366.png',\n",
       " '23378.png',\n",
       " '23381.png',\n",
       " '23383.png',\n",
       " '23387.png',\n",
       " '23393.png',\n",
       " '23398.png',\n",
       " '23413.png',\n",
       " '23422.png',\n",
       " '23438.png',\n",
       " '23440.png',\n",
       " '31052.png',\n",
       " '31077.png',\n",
       " '31078.png',\n",
       " '31102.png',\n",
       " '31110.png',\n",
       " '31119.png',\n",
       " '31155.png',\n",
       " '31157.png',\n",
       " '31160.png',\n",
       " '31166.png',\n",
       " '43989.png',\n",
       " '44971.png',\n",
       " '44978.png',\n",
       " '44988.png',\n",
       " '44991.png',\n",
       " '44996.png',\n",
       " '45005.png',\n",
       " '45010.png',\n",
       " '45016.png',\n",
       " '45020.png',\n",
       " '45024.png',\n",
       " '45026.png',\n",
       " '45032.png',\n",
       " '45052.png',\n",
       " '45055.png',\n",
       " '45058.png',\n",
       " '45059.png',\n",
       " '50153.png',\n",
       " '50155.png',\n",
       " '50158.png',\n",
       " '52080.png',\n",
       " '52083.png',\n",
       " '52085.png',\n",
       " '52088.png',\n",
       " '52090.png',\n",
       " '53405.png',\n",
       " '53409.png',\n",
       " '53410.png',\n",
       " '53411.png',\n",
       " '53413.png',\n",
       " '53419.png',\n",
       " '53423.png',\n",
       " '53425.png',\n",
       " '53431.png',\n",
       " '53439.png',\n",
       " '53448.png',\n",
       " '57186.png',\n",
       " '57200.png',\n",
       " '57206.png',\n",
       " '57207.png',\n",
       " '57216.png',\n",
       " '57232.png',\n",
       " '57236.png',\n",
       " '57244.png',\n",
       " '57250.png',\n",
       " '57259.png',\n",
       " '57261.png',\n",
       " '57266.png',\n",
       " '57270.png',\n",
       " '57277.png',\n",
       " '57283.png',\n",
       " '57289.png',\n",
       " '57293.png',\n",
       " '57297.png',\n",
       " '57308.png',\n",
       " '57316.png',\n",
       " '57318.png',\n",
       " '57327.png',\n",
       " '57329.png',\n",
       " '57331.png',\n",
       " '57335.png',\n",
       " '57338.png',\n",
       " '57350.png',\n",
       " '57365.png',\n",
       " '57373.png',\n",
       " '57376.png',\n",
       " '57385.png',\n",
       " '57386.png',\n",
       " '57389.png',\n",
       " '57393.png',\n",
       " '57394.png',\n",
       " '57395.png',\n",
       " '57398.png',\n",
       " '57405.png',\n",
       " '57416.png',\n",
       " '57421.png',\n",
       " '57425.png',\n",
       " '57429.png',\n",
       " '57431.png',\n",
       " '57444.png',\n",
       " '57445.png',\n",
       " '57455.png',\n",
       " '57458.png',\n",
       " '57462.png',\n",
       " '57464.png',\n",
       " '57469.png',\n",
       " '57473.png',\n",
       " '57485.png',\n",
       " '57498.png',\n",
       " '57531.png',\n",
       " '57539.png',\n",
       " '57545.png',\n",
       " '57550.png',\n",
       " '57551.png',\n",
       " '57554.png',\n",
       " '57565.png',\n",
       " '57572.png',\n",
       " '57579.png',\n",
       " '57583.png',\n",
       " '6000.png',\n",
       " '6009.png',\n",
       " '6014.png',\n",
       " '6030.png',\n",
       " '6033.png',\n",
       " '68798.png',\n",
       " '69170.png',\n",
       " '69172.png',\n",
       " '69173.png',\n",
       " '69176.png',\n",
       " '69179.png',\n",
       " '69183.png',\n",
       " '69188.png',\n",
       " '69193.png',\n",
       " '69200.png',\n",
       " '69211.png',\n",
       " '69226.png',\n",
       " '69231.png',\n",
       " '70551.png',\n",
       " '70560.png',\n",
       " '70562.png',\n",
       " '71444.png',\n",
       " '71461.png',\n",
       " '71464.png',\n",
       " '71475.png',\n",
       " '71486.png',\n",
       " '71498.png',\n",
       " '71507.png',\n",
       " '71530.png',\n",
       " '71540.png',\n",
       " '71543.png',\n",
       " '71544.png',\n",
       " '71549.png',\n",
       " '71553.png',\n",
       " '71560.png',\n",
       " '71567.png',\n",
       " '71569.png',\n",
       " '7632.png',\n",
       " '79283.png',\n",
       " '79287.png',\n",
       " '79289.png',\n",
       " '79300.png',\n",
       " '79318.png',\n",
       " '79322.png',\n",
       " '79324.png',\n",
       " '79326.png',\n",
       " '79328.png',\n",
       " '79338.png',\n",
       " '79339.png',\n",
       " '79347.png',\n",
       " '79355.png',\n",
       " '79362.png',\n",
       " '79366.png',\n",
       " '79371.png',\n",
       " '79385.png',\n",
       " '79388.png',\n",
       " '79408.png',\n",
       " '85226.png',\n",
       " '85791.png',\n",
       " '85797.png',\n",
       " '85800.png',\n",
       " '85810.png',\n",
       " '86717.png',\n",
       " '86720.png',\n",
       " '86721.png',\n",
       " '86725.png',\n",
       " '86748.png',\n",
       " '86752.png',\n",
       " '86759.png',\n",
       " '86760.png',\n",
       " '86768.png',\n",
       " '86773.png',\n",
       " '86777.png',\n",
       " '90245.png',\n",
       " '90259.png',\n",
       " '90267.png',\n",
       " '90271.png',\n",
       " '90278.png',\n",
       " '91699.png',\n",
       " '91701.png',\n",
       " '91703.png',\n",
       " '91709.png',\n",
       " '93052.png',\n",
       " '93055.png']"
      ]
     },
     "execution_count": 23,
     "metadata": {},
     "output_type": "execute_result"
    }
   ],
   "source": [
    "list_of_files_left_per_folder"
   ]
  },
  {
   "cell_type": "code",
   "execution_count": 24,
   "metadata": {},
   "outputs": [
    {
     "data": {
      "text/plain": [
       "287"
      ]
     },
     "execution_count": 24,
     "metadata": {},
     "output_type": "execute_result"
    }
   ],
   "source": [
    "len(list_of_files_left_per_folder)"
   ]
  },
  {
   "cell_type": "code",
   "execution_count": 25,
   "metadata": {},
   "outputs": [],
   "source": [
    "list_of_files_moved_per_folder=os.listdir(os.path.join(to_folder_base_path,list_of_folders[0]))"
   ]
  },
  {
   "cell_type": "code",
   "execution_count": 27,
   "metadata": {},
   "outputs": [
    {
     "data": {
      "text/plain": [
       "['10557.png',\n",
       " '10570.png',\n",
       " '13649.png',\n",
       " '13664.png',\n",
       " '13672.png',\n",
       " '13673.png',\n",
       " '13690.png',\n",
       " '13693.png',\n",
       " '13749.png',\n",
       " '13766.png',\n",
       " '13789.png',\n",
       " '13795.png',\n",
       " '13807.png',\n",
       " '13815.png',\n",
       " '13823.png',\n",
       " '159.png',\n",
       " '16260.png',\n",
       " '16273.png',\n",
       " '16278.png',\n",
       " '170.png',\n",
       " '19444.png',\n",
       " '19445.png',\n",
       " '19461.png',\n",
       " '22097.png',\n",
       " '23214.png',\n",
       " '23253.png',\n",
       " '23257.png',\n",
       " '23266.png',\n",
       " '23278.png',\n",
       " '23290.png',\n",
       " '23296.png',\n",
       " '23338.png',\n",
       " '23340.png',\n",
       " '23345.png',\n",
       " '23367.png',\n",
       " '23394.png',\n",
       " '23410.png',\n",
       " '31062.png',\n",
       " '31070.png',\n",
       " '31072.png',\n",
       " '31098.png',\n",
       " '31101.png',\n",
       " '31121.png',\n",
       " '31148.png',\n",
       " '43992.png',\n",
       " '44972.png',\n",
       " '45004.png',\n",
       " '45038.png',\n",
       " '45060.png',\n",
       " '45064.png',\n",
       " '50152.png',\n",
       " '50162.png',\n",
       " '52075.png',\n",
       " '52095.png',\n",
       " '57198.png',\n",
       " '57255.png',\n",
       " '57265.png',\n",
       " '57281.png',\n",
       " '57303.png',\n",
       " '57322.png',\n",
       " '57360.png',\n",
       " '57412.png',\n",
       " '57435.png',\n",
       " '57505.png',\n",
       " '57524.png',\n",
       " '57540.png',\n",
       " '57542.png',\n",
       " '57559.png',\n",
       " '57578.png',\n",
       " '6005.png',\n",
       " '69181.png',\n",
       " '69182.png',\n",
       " '70552.png',\n",
       " '71447.png',\n",
       " '71453.png',\n",
       " '71457.png',\n",
       " '71472.png',\n",
       " '71490.png',\n",
       " '71515.png',\n",
       " '71535.png',\n",
       " '71536.png',\n",
       " '71554.png',\n",
       " '79295.png',\n",
       " '79299.png',\n",
       " '79303.png',\n",
       " '79342.png',\n",
       " '79370.png',\n",
       " '79394.png',\n",
       " '85808.png',\n",
       " '86741.png',\n",
       " '86745.png',\n",
       " '86770.png',\n",
       " '90243.png',\n",
       " '91704.png',\n",
       " '91708.png',\n",
       " '93040.png']"
      ]
     },
     "execution_count": 27,
     "metadata": {},
     "output_type": "execute_result"
    }
   ],
   "source": [
    "list_of_files_moved_per_folder"
   ]
  },
  {
   "cell_type": "code",
   "execution_count": 28,
   "metadata": {},
   "outputs": [
    {
     "data": {
      "text/plain": [
       "96"
      ]
     },
     "execution_count": 28,
     "metadata": {},
     "output_type": "execute_result"
    }
   ],
   "source": [
    "len(list_of_files_moved_per_folder)"
   ]
  },
  {
   "cell_type": "code",
   "execution_count": 30,
   "metadata": {},
   "outputs": [],
   "source": [
    "import matplotlib.pyplot as plt\n",
    "import pandas as pd"
   ]
  },
  {
   "cell_type": "code",
   "execution_count": 31,
   "metadata": {},
   "outputs": [],
   "source": [
    "files_to_stack=[]\n",
    "for single_folder in list_of_folders:\n",
    "    from_single_folder_path=os.path.join(from_folder_base_path,single_folder)\n",
    "    list_of_files=os.listdir(from_single_folder_path)\n",
    "    for single_file in list_of_files:\n",
    "        files_to_stack.append(plt.imread(os.path.join(from_single_folder_path,single_file)).reshape(1,1024))\n",
    "files_to_stack=tuple(files_to_stack)\n",
    "stacked_files=np.vstack(files_to_stack)\n"
   ]
  },
  {
   "cell_type": "code",
   "execution_count": 32,
   "metadata": {},
   "outputs": [],
   "source": [
    "data=pd.DataFrame(data=stacked_files)"
   ]
  },
  {
   "cell_type": "code",
   "execution_count": 33,
   "metadata": {},
   "outputs": [
    {
     "data": {
      "text/html": [
       "<div>\n",
       "<style scoped>\n",
       "    .dataframe tbody tr th:only-of-type {\n",
       "        vertical-align: middle;\n",
       "    }\n",
       "\n",
       "    .dataframe tbody tr th {\n",
       "        vertical-align: top;\n",
       "    }\n",
       "\n",
       "    .dataframe thead th {\n",
       "        text-align: right;\n",
       "    }\n",
       "</style>\n",
       "<table border=\"1\" class=\"dataframe\">\n",
       "  <thead>\n",
       "    <tr style=\"text-align: right;\">\n",
       "      <th></th>\n",
       "      <th>0</th>\n",
       "      <th>1</th>\n",
       "      <th>2</th>\n",
       "      <th>3</th>\n",
       "      <th>4</th>\n",
       "      <th>5</th>\n",
       "      <th>6</th>\n",
       "      <th>7</th>\n",
       "      <th>8</th>\n",
       "      <th>9</th>\n",
       "      <th>...</th>\n",
       "      <th>1014</th>\n",
       "      <th>1015</th>\n",
       "      <th>1016</th>\n",
       "      <th>1017</th>\n",
       "      <th>1018</th>\n",
       "      <th>1019</th>\n",
       "      <th>1020</th>\n",
       "      <th>1021</th>\n",
       "      <th>1022</th>\n",
       "      <th>1023</th>\n",
       "    </tr>\n",
       "  </thead>\n",
       "  <tbody>\n",
       "    <tr>\n",
       "      <th>0</th>\n",
       "      <td>0.0</td>\n",
       "      <td>0.0</td>\n",
       "      <td>0.0</td>\n",
       "      <td>0.0</td>\n",
       "      <td>0.0</td>\n",
       "      <td>0.0</td>\n",
       "      <td>0.0</td>\n",
       "      <td>0.0</td>\n",
       "      <td>0.0</td>\n",
       "      <td>0.0</td>\n",
       "      <td>...</td>\n",
       "      <td>0.0</td>\n",
       "      <td>0.0</td>\n",
       "      <td>0.0</td>\n",
       "      <td>0.0</td>\n",
       "      <td>0.0</td>\n",
       "      <td>0.0</td>\n",
       "      <td>0.0</td>\n",
       "      <td>0.0</td>\n",
       "      <td>0.0</td>\n",
       "      <td>0.0</td>\n",
       "    </tr>\n",
       "    <tr>\n",
       "      <th>1</th>\n",
       "      <td>0.0</td>\n",
       "      <td>0.0</td>\n",
       "      <td>0.0</td>\n",
       "      <td>0.0</td>\n",
       "      <td>0.0</td>\n",
       "      <td>0.0</td>\n",
       "      <td>0.0</td>\n",
       "      <td>0.0</td>\n",
       "      <td>0.0</td>\n",
       "      <td>0.0</td>\n",
       "      <td>...</td>\n",
       "      <td>0.0</td>\n",
       "      <td>0.0</td>\n",
       "      <td>0.0</td>\n",
       "      <td>0.0</td>\n",
       "      <td>0.0</td>\n",
       "      <td>0.0</td>\n",
       "      <td>0.0</td>\n",
       "      <td>0.0</td>\n",
       "      <td>0.0</td>\n",
       "      <td>0.0</td>\n",
       "    </tr>\n",
       "    <tr>\n",
       "      <th>2</th>\n",
       "      <td>0.0</td>\n",
       "      <td>0.0</td>\n",
       "      <td>0.0</td>\n",
       "      <td>0.0</td>\n",
       "      <td>0.0</td>\n",
       "      <td>0.0</td>\n",
       "      <td>0.0</td>\n",
       "      <td>0.0</td>\n",
       "      <td>0.0</td>\n",
       "      <td>0.0</td>\n",
       "      <td>...</td>\n",
       "      <td>0.0</td>\n",
       "      <td>0.0</td>\n",
       "      <td>0.0</td>\n",
       "      <td>0.0</td>\n",
       "      <td>0.0</td>\n",
       "      <td>0.0</td>\n",
       "      <td>0.0</td>\n",
       "      <td>0.0</td>\n",
       "      <td>0.0</td>\n",
       "      <td>0.0</td>\n",
       "    </tr>\n",
       "    <tr>\n",
       "      <th>3</th>\n",
       "      <td>0.0</td>\n",
       "      <td>0.0</td>\n",
       "      <td>0.0</td>\n",
       "      <td>0.0</td>\n",
       "      <td>0.0</td>\n",
       "      <td>0.0</td>\n",
       "      <td>0.0</td>\n",
       "      <td>0.0</td>\n",
       "      <td>0.0</td>\n",
       "      <td>0.0</td>\n",
       "      <td>...</td>\n",
       "      <td>0.0</td>\n",
       "      <td>0.0</td>\n",
       "      <td>0.0</td>\n",
       "      <td>0.0</td>\n",
       "      <td>0.0</td>\n",
       "      <td>0.0</td>\n",
       "      <td>0.0</td>\n",
       "      <td>0.0</td>\n",
       "      <td>0.0</td>\n",
       "      <td>0.0</td>\n",
       "    </tr>\n",
       "    <tr>\n",
       "      <th>4</th>\n",
       "      <td>0.0</td>\n",
       "      <td>0.0</td>\n",
       "      <td>0.0</td>\n",
       "      <td>0.0</td>\n",
       "      <td>0.0</td>\n",
       "      <td>0.0</td>\n",
       "      <td>0.0</td>\n",
       "      <td>0.0</td>\n",
       "      <td>0.0</td>\n",
       "      <td>0.0</td>\n",
       "      <td>...</td>\n",
       "      <td>0.0</td>\n",
       "      <td>0.0</td>\n",
       "      <td>0.0</td>\n",
       "      <td>0.0</td>\n",
       "      <td>0.0</td>\n",
       "      <td>0.0</td>\n",
       "      <td>0.0</td>\n",
       "      <td>0.0</td>\n",
       "      <td>0.0</td>\n",
       "      <td>0.0</td>\n",
       "    </tr>\n",
       "  </tbody>\n",
       "</table>\n",
       "<p>5 rows × 1024 columns</p>\n",
       "</div>"
      ],
      "text/plain": [
       "   0     1     2     3     4     5     6     7     8     9     ...   1014  \\\n",
       "0   0.0   0.0   0.0   0.0   0.0   0.0   0.0   0.0   0.0   0.0  ...    0.0   \n",
       "1   0.0   0.0   0.0   0.0   0.0   0.0   0.0   0.0   0.0   0.0  ...    0.0   \n",
       "2   0.0   0.0   0.0   0.0   0.0   0.0   0.0   0.0   0.0   0.0  ...    0.0   \n",
       "3   0.0   0.0   0.0   0.0   0.0   0.0   0.0   0.0   0.0   0.0  ...    0.0   \n",
       "4   0.0   0.0   0.0   0.0   0.0   0.0   0.0   0.0   0.0   0.0  ...    0.0   \n",
       "\n",
       "   1015  1016  1017  1018  1019  1020  1021  1022  1023  \n",
       "0   0.0   0.0   0.0   0.0   0.0   0.0   0.0   0.0   0.0  \n",
       "1   0.0   0.0   0.0   0.0   0.0   0.0   0.0   0.0   0.0  \n",
       "2   0.0   0.0   0.0   0.0   0.0   0.0   0.0   0.0   0.0  \n",
       "3   0.0   0.0   0.0   0.0   0.0   0.0   0.0   0.0   0.0  \n",
       "4   0.0   0.0   0.0   0.0   0.0   0.0   0.0   0.0   0.0  \n",
       "\n",
       "[5 rows x 1024 columns]"
      ]
     },
     "execution_count": 33,
     "metadata": {},
     "output_type": "execute_result"
    }
   ],
   "source": [
    "data.head()"
   ]
  },
  {
   "cell_type": "code",
   "execution_count": 34,
   "metadata": {},
   "outputs": [
    {
     "data": {
      "text/plain": [
       "(29674, 1024)"
      ]
     },
     "execution_count": 34,
     "metadata": {},
     "output_type": "execute_result"
    }
   ],
   "source": [
    "data.shape"
   ]
  }
 ],
 "metadata": {
  "kernelspec": {
   "display_name": "Python 3",
   "language": "python",
   "name": "python3"
  },
  "language_info": {
   "codemirror_mode": {
    "name": "ipython",
    "version": 3
   },
   "file_extension": ".py",
   "mimetype": "text/x-python",
   "name": "python",
   "nbconvert_exporter": "python",
   "pygments_lexer": "ipython3",
   "version": "3.7.1"
  }
 },
 "nbformat": 4,
 "nbformat_minor": 2
}
